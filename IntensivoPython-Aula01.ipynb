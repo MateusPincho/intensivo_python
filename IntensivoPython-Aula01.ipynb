{
 "cells": [
  {
   "cell_type": "markdown",
   "id": "f86894fd",
   "metadata": {},
   "source": [
    "# Aula 01 do Intensivão de Python - Hashtag programação"
   ]
  },
  {
   "cell_type": "markdown",
   "id": "ec433575",
   "metadata": {},
   "source": [
    "1° deve se escrever o passo a passo em português! \n",
    " - Entrar no sistema\n",
    " - Exportar a base de dados \n",
    " - Calcular os indicadores \n",
    " - Enviar um email a diretoria com os indicadores \n",
    "\n",
    "Pyautogui -> Biblioteca do Python \n",
    " - Automatizar o seu mouse, teclado e tela \n",
    " - Funciona muito bem com o pyperclip\n",
    " \n",
    "Leia a documentação do PyAutoGUI!"
   ]
  },
  {
   "cell_type": "code",
   "execution_count": 8,
   "id": "94cc01b9",
   "metadata": {},
   "outputs": [],
   "source": [
    "import pyautogui\n",
    "import pyperclip\n",
    "import time\n",
    "# importar as bibliotecas para rodar no seu código"
   ]
  },
  {
   "cell_type": "code",
   "execution_count": 7,
   "id": "1b1e839d",
   "metadata": {},
   "outputs": [],
   "source": [
    "pyautogui.PAUSE = 1\n",
    "\n",
    "#Passo01 - entrar no sistema da empresa\n",
    "#O pyautogui tem problemas em escrever caracteres especiais, por isso que se usa o pyperclip\n",
    "\n",
    "pyautogui.hotkey(\"ctrl\",\"t\")\n",
    "pyperclip.copy(\"url\")   \n",
    "pyautogui.hotkey(\"ctrl\",\"v\")\n",
    "pyautogui.press(\"enter\")\n",
    "\n",
    "time.sleep(3)\n",
    "\n",
    "pyautogui.click(x=, y= ) #diz a posição que ele vai clicar // para usar mais de clique -> clicks = n\n",
    "time.sleep(2)\n",
    "\n",
    "#Passo02 - exportar base de dados\n",
    "\n",
    "pyautogui.click(x=, y=) #clicar no arquivo\n",
    "pyautogui.click(x=, y=) # clicar nos 3 pontinhos\n",
    "pyautogui.click(x=, y=) #clicar na opção download \n",
    "time.sleep (10) #esperar o download ser feito"
   ]
  },
  {
   "cell_type": "markdown",
   "id": "da1d121b",
   "metadata": {},
   "source": [
    "## Para ler o arquivo com a base de dados :"
   ]
  },
  {
   "cell_type": "code",
   "execution_count": null,
   "id": "407f2cff",
   "metadata": {},
   "outputs": [],
   "source": [
    "#Passo03 - calcular os indicadores\n",
    "import pandas as pd\n",
    "\n",
    "tabela = pd.read_excel(r\"C:\\Users\\veloc\\Downloads\\Nomedoarquivo + extensao\") \n",
    "    #usar esse r para o python não ler caracteres especiais\n",
    "    \n",
    "display(tabela)\n",
    "\n",
    "faturamento = tabela[\"Coluna do valor final\"]\n",
    "quantidade = tabela [\"Coluna das quantidades\"]\n",
    "#escreva exatamente igual! "
   ]
  },
  {
   "cell_type": "markdown",
   "id": "d5948666",
   "metadata": {},
   "source": [
    "## Para mandar um email automático: "
   ]
  },
  {
   "cell_type": "code",
   "execution_count": null,
   "id": "e9c15eb0",
   "metadata": {},
   "outputs": [],
   "source": [
    "#Passo04 - Enviar um email com os dados obtidos\n",
    "\n",
    "pyautogui.hotkey(\"ctrl\",\"t\") # criou uma nova aba\n",
    "pyperclip.copy(\"url\") #link do gmail\n",
    "pyautogui.hotkey(\"ctrl\",\"v\") #colar o link do gmail\n",
    "pyautogui.press(\"enter\") #entrar no gmail\n",
    "time.sleep(5) #esperar o site carregar \n",
    "\n",
    "# clicar no botão escrever \n",
    "pyautogui.click(x=,y=)\n",
    "time.sleep(3)\n",
    "\n",
    "# escrever o destinatário\n",
    "pyautogui.write(\"nome@gmail.com\") \n",
    "pyautogui.press(\"tab\")\n",
    "# escrever o assunto \n",
    "\n",
    "# escrever o corpo do email\n",
    "\n",
    "# enviar o email"
   ]
  },
  {
   "cell_type": "markdown",
   "id": "7309dc50",
   "metadata": {},
   "source": [
    "## Para descobrir a posição do mouse:\n"
   ]
  },
  {
   "cell_type": "code",
   "execution_count": 9,
   "id": "c06e7526",
   "metadata": {},
   "outputs": [
    {
     "data": {
      "text/plain": [
       "Point(x=378, y=190)"
      ]
     },
     "execution_count": 9,
     "metadata": {},
     "output_type": "execute_result"
    }
   ],
   "source": [
    "time.sleep(5)\n",
    "pyautogui.position()"
   ]
  },
  {
   "cell_type": "code",
   "execution_count": null,
   "id": "6b965bdd",
   "metadata": {},
   "outputs": [],
   "source": []
  }
 ],
 "metadata": {
  "kernelspec": {
   "display_name": "Python 3 (ipykernel)",
   "language": "python",
   "name": "python3"
  },
  "language_info": {
   "codemirror_mode": {
    "name": "ipython",
    "version": 3
   },
   "file_extension": ".py",
   "mimetype": "text/x-python",
   "name": "python",
   "nbconvert_exporter": "python",
   "pygments_lexer": "ipython3",
   "version": "3.9.7"
  }
 },
 "nbformat": 4,
 "nbformat_minor": 5
}
